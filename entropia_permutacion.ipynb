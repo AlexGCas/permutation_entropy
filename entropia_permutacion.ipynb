{
  "nbformat": 4,
  "nbformat_minor": 0,
  "metadata": {
    "colab": {
      "name": "entropia_permutacion.ipynb",
      "provenance": [],
      "collapsed_sections": [],
      "toc_visible": true,
      "include_colab_link": true
    },
    "kernelspec": {
      "name": "python3",
      "display_name": "Python 3"
    },
    "language_info": {
      "name": "python"
    }
  },
  "cells": [
    {
      "cell_type": "markdown",
      "metadata": {
        "id": "view-in-github",
        "colab_type": "text"
      },
      "source": [
        "<a href=\"https://colab.research.google.com/github/AlexGCas/permutation_entropy/blob/main/entropia_permutacion.ipynb\" target=\"_parent\"><img src=\"https://colab.research.google.com/assets/colab-badge.svg\" alt=\"Open In Colab\"/></a>"
      ]
    },
    {
      "cell_type": "markdown",
      "metadata": {
        "id": "c3i85XtxtkIW"
      },
      "source": [
        "\n",
        "\n",
        "# Primer punto, entropía de permutación"
      ]
    },
    {
      "cell_type": "code",
      "metadata": {
        "colab": {
          "base_uri": "https://localhost:8080/"
        },
        "id": "5ogxxI-m0sMK",
        "outputId": "8ee90b9b-d21f-4df4-d317-eab56d2c2633"
      },
      "source": [
        "from google.colab import drive\n",
        "drive.mount('/content/drive')\n",
        "from google.colab import files"
      ],
      "execution_count": null,
      "outputs": [
        {
          "output_type": "stream",
          "text": [
            "Drive already mounted at /content/drive; to attempt to forcibly remount, call drive.mount(\"/content/drive\", force_remount=True).\n"
          ],
          "name": "stdout"
        }
      ]
    },
    {
      "cell_type": "code",
      "metadata": {
        "id": "mxs3CGW5WXVP"
      },
      "source": [
        "import math\n",
        "#manejo de elemeotos del sistema, como carpetas\n",
        "import scipy.io as sio;\n",
        "import numpy as np;\n",
        "import matplotlib.pyplot as plt\n",
        "import glob\n",
        "import pandas as pd\n",
        "import re"
      ],
      "execution_count": null,
      "outputs": []
    },
    {
      "cell_type": "code",
      "metadata": {
        "id": "Km43mSeHXJJO"
      },
      "source": [
        "s = np.array([4, 7, 9, 10, 6, 11, 3])"
      ],
      "execution_count": null,
      "outputs": []
    },
    {
      "cell_type": "code",
      "metadata": {
        "id": "Xa-MVEpLdWqC"
      },
      "source": [
        "def OverlappingMatixUnidimensionalArray(array, D = 3):\n",
        "  '''returns overlapping matrix for an unidimensional array\n",
        "  Tao: embedding time delay.\n",
        "  D: number of elements of a column.\n",
        "  m = 7 - (3 - 1)*1 = 5\n",
        "  using a fixed value of Tao = 1\n",
        "  '''\n",
        "  Tao = 1\n",
        "  n = int(np.ceil(len(s) / D))\n",
        "  m = len(array) - (D-1)*Tao\n",
        "  overlappingMatrix = np.zeros([n, m])\n",
        "  '''llenar una matriz no es una operacion vectorial y por lo tanto es necesario\n",
        "  realizarun for para llenar cada una de las posiciones.'''\n",
        "  for i in range(D):\n",
        "    '''llenar cada una de las filas'''\n",
        "    overlappingMatrix[i, :] = array[i: m +i]\n",
        "  return overlappingMatrix"
      ],
      "execution_count": null,
      "outputs": []
    },
    {
      "cell_type": "code",
      "metadata": {
        "id": "SVSJBI02kCiT"
      },
      "source": [
        "def permutationColumn(column):\n",
        "  permutation_column = np.zeros(column.shape)\n",
        "  array_ordenado = np.sort(column)\n",
        "  for i in range(len(column)):\n",
        "    '''for para llenar la columna de permutacion'''\n",
        "    for j in range(len(column)):\n",
        "      '''for para recorrer el array ordenado'''\n",
        "      if column[i] == array_ordenado[j]:\n",
        "        permutation_column[i] = j\n",
        "        array_ordenado[j] = None\n",
        "  return permutation_column"
      ],
      "execution_count": null,
      "outputs": []
    },
    {
      "cell_type": "code",
      "metadata": {
        "id": "3xGcVzutwDbn"
      },
      "source": [
        "def permutationMatrix(matrix):\n",
        "  permutation_matrix = np.zeros(matrix.shape)\n",
        "  for column in range(matrix.shape[1]):\n",
        "    permutation_matrix[:, column] = permutationColumn(matrix[:, column])\n",
        "  return permutation_matrix"
      ],
      "execution_count": null,
      "outputs": []
    },
    {
      "cell_type": "code",
      "metadata": {
        "id": "SYVJ8CB74BAz"
      },
      "source": [
        "def compararArray(array1, array2):\n",
        "  comparacion = False\n",
        "  if (array1 == array2).all():\n",
        "    comparacion = True\n",
        "  return comparacion"
      ],
      "execution_count": null,
      "outputs": []
    },
    {
      "cell_type": "code",
      "metadata": {
        "id": "fH4o6K0lD_qZ"
      },
      "source": [
        "def contarVecesArray(array_simple, array_complejo):\n",
        "  numero_veces = 0\n",
        "  for array in array_complejo:\n",
        "    if (compararArray(array_simple, array)):\n",
        "      numero_veces = numero_veces + 1\n",
        "  return numero_veces"
      ],
      "execution_count": null,
      "outputs": []
    },
    {
      "cell_type": "code",
      "metadata": {
        "id": "8aQ5GjX2EOhC"
      },
      "source": [
        "def eliminarPermutacion(array_simple, array_complejo):\n",
        "  contador = 0\n",
        "  array_modificado = []\n",
        "  for array in array_complejo:\n",
        "    if compararArray(array_simple, array):\n",
        "      pass\n",
        "    else:\n",
        "      array_modificado.append(array)\n",
        "  return array_modificado"
      ],
      "execution_count": null,
      "outputs": []
    },
    {
      "cell_type": "code",
      "metadata": {
        "id": "HhdMdP4H39ou"
      },
      "source": [
        "def countFrecuency(permutation_matrix, length = 7):\n",
        "  numero_permutaciones = int(math.factorial(length)/math.factorial(permutation_matrix.shape[0]))\n",
        "  freq_dist = {}\n",
        "  permutaciones = []\n",
        "  contador = 0\n",
        "  for column in range(permutation_matrix.shape[1]):\n",
        "    permutaciones.append(permutation_matrix[:, column])\n",
        "  for column in range(permutation_matrix.shape[1]):\n",
        "    veces = contarVecesArray(permutation_matrix[:, column], permutaciones)\n",
        "    permutaciones = eliminarPermutacion(permutation_matrix[:, column], permutaciones)\n",
        "    if veces == 0:\n",
        "      pass\n",
        "    else:\n",
        "      freq_dist[contador] = veces\n",
        "      contador = contador + 1\n",
        "  return freq_dist\n"
      ],
      "execution_count": null,
      "outputs": []
    },
    {
      "cell_type": "code",
      "metadata": {
        "id": "k7PDAkefaT0-"
      },
      "source": [
        "def permutationEntropy(freq_dict):\n",
        "  frecuencias = np.array(\n",
        "      list(\n",
        "          freq_dict.values() \n",
        "          ))\n",
        "  probabilidades = frecuencias / np.sum(frecuencias)\n",
        "  logaritmos = np.log2(probabilidades)\n",
        "  PE = -np.dot(logaritmos, probabilidades)\n",
        "  return PE"
      ],
      "execution_count": null,
      "outputs": []
    },
    {
      "cell_type": "code",
      "metadata": {
        "id": "RD-Sm-nvaULd"
      },
      "source": [
        "def permutationEntropyFromData(array):\n",
        "  overlappingMatrix = OverlappingMatixUnidimensionalArray(array)\n",
        "  permutation_matrix = permutationMatrix(overlappingMatrix)\n",
        "  freq_dist = countFrecuency(permutation_matrix)\n",
        "  permutation_entropy = permutationEntropy(freq_dist)\n",
        "  return permutation_entropy"
      ],
      "execution_count": null,
      "outputs": []
    },
    {
      "cell_type": "code",
      "metadata": {
        "id": "X2cgEsMz3WMz"
      },
      "source": [
        "def extraccionNombre(archivo):\n",
        "  nombre = re.findall(\"([A-Za-z0-9_]+).mat\", archivo)\n",
        "  return nombre[0]\n",
        "def extraccionTipo(archivo):\n",
        "  tipo = re.findall(\"([a-z]+):?/[A-Za-z0-9_]+.mat\", archivo)\n",
        "  return tipo[0]"
      ],
      "execution_count": null,
      "outputs": []
    },
    {
      "cell_type": "code",
      "metadata": {
        "colab": {
          "base_uri": "https://localhost:8080/"
        },
        "id": "GNOclTJ9jxmT",
        "outputId": "d3828831-4473-4b99-dfd1-84457605d2b0"
      },
      "source": [
        "permutationEntropyFromData(s)"
      ],
      "execution_count": null,
      "outputs": [
        {
          "output_type": "execute_result",
          "data": {
            "text/plain": [
              "1.5219280948873621"
            ]
          },
          "metadata": {
            "tags": []
          },
          "execution_count": 48
        }
      ]
    },
    {
      "cell_type": "code",
      "metadata": {
        "id": "aIeGU3dRwCR2"
      },
      "source": [
        "archivos_g1 = glob.glob('/content/drive/Shareddrives/biosenales_sistemas/datasets_proyecto1/control/*.mat')\n",
        "archivos_g2 = glob.glob('/content/drive/Shareddrives/biosenales_sistemas/datasets_proyecto1/parkinson/*.mat')"
      ],
      "execution_count": null,
      "outputs": []
    },
    {
      "cell_type": "code",
      "metadata": {
        "colab": {
          "base_uri": "https://localhost:8080/"
        },
        "id": "YWgE-a1i2KSh",
        "outputId": "630260b2-a112-4437-a428-4950d2892181"
      },
      "source": [
        "#para un canal\n",
        "data = sio.loadmat(archivos_g1[1])\n",
        "senal = data['data']\n",
        "epoca = senal[0, :, 0]\n",
        "entropia_canal = permutationEntropyFromData(epoca)\n",
        "entropia_canal"
      ],
      "execution_count": null,
      "outputs": [
        {
          "output_type": "execute_result",
          "data": {
            "text/plain": [
              "1.2755402265848075"
            ]
          },
          "metadata": {
            "tags": []
          },
          "execution_count": 50
        }
      ]
    },
    {
      "cell_type": "markdown",
      "metadata": {
        "id": "KB0yjPzf57LQ"
      },
      "source": [
        "\n",
        "# Punto 2"
      ]
    },
    {
      "cell_type": "code",
      "metadata": {
        "id": "_PNzUrrz2Ki8"
      },
      "source": [
        "def prom_entropy_epocas(x): #entrada de x con 176 epocas \n",
        "  p = np.zeros(x.shape[1]);\n",
        "  for i in range (x.shape[1]):\n",
        "    p[i] = permutationEntropyFromData(x[:,i])\n",
        "  prom = np.mean(p)\n",
        "  return prom"
      ],
      "execution_count": null,
      "outputs": []
    },
    {
      "cell_type": "code",
      "metadata": {
        "colab": {
          "base_uri": "https://localhost:8080/"
        },
        "id": "a7Q5Ku9I2LI7",
        "outputId": "4f9cbffc-3677-4d54-fe9e-f4ca833d6495"
      },
      "source": [
        "promedio_epocas = prom_entropy_epocas(senal[0,:,:])\n",
        "promedio_epocas"
      ],
      "execution_count": null,
      "outputs": [
        {
          "output_type": "execute_result",
          "data": {
            "text/plain": [
              "1.2562825119080925"
            ]
          },
          "metadata": {
            "tags": []
          },
          "execution_count": 52
        }
      ]
    },
    {
      "cell_type": "markdown",
      "metadata": {
        "id": "4gTVvw7w93xJ"
      },
      "source": [
        "# Punto 3"
      ]
    },
    {
      "cell_type": "code",
      "metadata": {
        "id": "D5FcMOr_91vR"
      },
      "source": [
        "def prom_entropy_canales(x):\n",
        "  c = np.zeros(x.shape[0]);\n",
        "  for i in range (x.shape[0]):\n",
        "    c[i] = prom_entropy_epocas(x[i,:,:])\n",
        "  return c"
      ],
      "execution_count": null,
      "outputs": []
    },
    {
      "cell_type": "code",
      "metadata": {
        "id": "ZsnBLkX02LVs"
      },
      "source": [
        "entropia_canales = prom_entropy_canales(senal)"
      ],
      "execution_count": null,
      "outputs": []
    },
    {
      "cell_type": "code",
      "metadata": {
        "id": "m0BrhGz22Lmk",
        "colab": {
          "base_uri": "https://localhost:8080/"
        },
        "outputId": "7e71b1db-3c7f-42aa-b565-8d6a1ae7b345"
      },
      "source": [
        "entropia_canales"
      ],
      "execution_count": null,
      "outputs": [
        {
          "output_type": "execute_result",
          "data": {
            "text/plain": [
              "array([1.25628251, 1.25798283, 1.26337211, 1.26128997, 1.25968977,\n",
              "       1.23764416, 1.24285515, 1.24403065])"
            ]
          },
          "metadata": {
            "tags": []
          },
          "execution_count": 55
        }
      ]
    },
    {
      "cell_type": "markdown",
      "metadata": {
        "id": "TG_JpP7QCMre"
      },
      "source": [
        "# Punto 4"
      ]
    },
    {
      "cell_type": "markdown",
      "metadata": {
        "id": "h5TDNpHm6jec"
      },
      "source": [
        "# Nueva sección"
      ]
    },
    {
      "cell_type": "code",
      "metadata": {
        "id": "dlBbhJjo2MHZ"
      },
      "source": [
        "def base_datos(archivos):\n",
        "  tabla = pd.DataFrame({},index=[0])\n",
        "  pacientes = {}\n",
        "  for i in range (len(archivos)):\n",
        "    data = sio.loadmat(archivos[i]);\n",
        "    senal = data['data'];\n",
        "    nombre = extraccionNombre(archivos[i])\n",
        "    estado = extraccionTipo(archivos[i])\n",
        "    paciente = prom_entropy_canales(senal);\n",
        "    pacientes['nombre']= nombre;\n",
        "    pacientes['estado']= estado;\n",
        "    pacientes['canal0'] = paciente[0];\n",
        "    pacientes['canal1'] = paciente[1];\n",
        "    pacientes['canal2'] = paciente[2];\n",
        "    pacientes['canal3'] = paciente[3];\n",
        "    pacientes['canal4'] = paciente[4];\n",
        "    pacientes['canal5'] = paciente[5];\n",
        "    pacientes['canal6'] = paciente[6];\n",
        "    pacientes['canal7'] = paciente[7];\n",
        "    # df3 = pd.DataFrame(pacientes,index=[0])\n",
        "    tabla = tabla.append(pacientes, ignore_index = True)\n",
        "  tabla = tabla.drop([0])\n",
        "  return tabla"
      ],
      "execution_count": null,
      "outputs": []
    },
    {
      "cell_type": "code",
      "metadata": {
        "id": "wLPGwzZdDEV8"
      },
      "source": [
        "control = base_datos(archivos_g1)\n",
        "control.to_csv(\"control.csv\")"
      ],
      "execution_count": null,
      "outputs": []
    },
    {
      "cell_type": "code",
      "metadata": {
        "id": "zh84qiAjSn4i"
      },
      "source": [
        "parkinson = base_datos(archivos_g2)\n",
        "parkinson.to_csv(\"parkinson.csv\")"
      ],
      "execution_count": null,
      "outputs": []
    }
  ]
}